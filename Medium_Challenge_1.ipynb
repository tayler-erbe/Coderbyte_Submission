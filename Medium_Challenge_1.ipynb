{
 "cells": [
  {
   "cell_type": "markdown",
   "id": "e0089d91-678c-4bbb-9857-d6bcda34743f",
   "metadata": {},
   "source": [
    "## Challenge 3 \n",
    "\n",
    "Title: Min  Window Substring\n",
    "\n",
    "Difficulty: Medium\n",
    "\n",
    "Solutions: 19868\n",
    "\n",
    "Maximum Score: 10\n",
    "\n",
    "Description: For this challenge you will be searching for the optimal substring of k characters."
   ]
  },
  {
   "cell_type": "markdown",
   "id": "917e25a8-9d57-4c06-80d9-529e83fabf44",
   "metadata": {},
   "source": [
    "Min Window Substring\n",
    "Have the function MinWindowSubstring(strArr) take the array of strings stored in strArr, which will contain only two strings, the first parameter being the string N and the second parameter being a string K of some characters, and your goal is to determine the smallest substring of N that contains all the characters in K. For example: if strArr is [\"aaabaaddae\", \"aed\"] then the smallest substring of N that contains the characters a, e, and d is \"dae\" located at the end of the string. So for this example your program should return the string dae.\n",
    "\n",
    "Another example: if strArr is [\"aabdccdbcacd\", \"aad\"] then the smallest substring of N that contains all of the characters in K is \"aabd\" which is located at the beginning of the string. Both parameters will be strings ranging in length from 1 to 50 characters and all of K's characters will exist somewhere in the string N. Both strings will only contains lowercase alphabetic characters.\n",
    "Examples\n",
    "Input: [\"ahffaksfajeeubsne\", \"jefaa\"]\n",
    "Output: aksfaje\n",
    "Input: [\"aaffhkksemckelloe\", \"fhea\"]\n",
    "Output: affhkkse"
   ]
  },
  {
   "cell_type": "code",
   "execution_count": 1,
   "id": "2fc7cdc4-45ea-4f7d-84ea-9287220c8046",
   "metadata": {},
   "outputs": [],
   "source": [
    "import re\n",
    "import numpy as np"
   ]
  },
  {
   "cell_type": "code",
   "execution_count": 2,
   "id": "4505ac12-88d6-4649-bced-0fe9146acf2b",
   "metadata": {},
   "outputs": [],
   "source": [
    "string_1 = 'xxiai'\n",
    "string_2 = 'xajklxiaxklbi'"
   ]
  },
  {
   "cell_type": "code",
   "execution_count": 3,
   "id": "a564b48d-f1a8-4fb9-bd3a-97e3633723c2",
   "metadata": {},
   "outputs": [],
   "source": [
    "# Get all possible Indices for first position of string 1\n",
    "def get_starter(string_1,string_2,i):\n",
    "    starting_positions = []\n",
    "    for substring in re.finditer(string_1[0], string_2):\n",
    "        start = substring.start()\n",
    "        end = substring.end()\n",
    "        starting_positions.append(start)\n",
    "\n",
    "    substr = [starting_positions[i]]\n",
    "    return substr"
   ]
  },
  {
   "cell_type": "code",
   "execution_count": 4,
   "id": "59cb4c03-49f3-4bca-92a4-50fff00d5a74",
   "metadata": {},
   "outputs": [],
   "source": [
    "# Make sure that string_1 is always the smaller string\n",
    "def set_strings(str_arg1, str_arg2):\n",
    "    if len(str_arg1[0]) < len(str_arg2[1]):\n",
    "        string_1 = str_arg1\n",
    "        string_2 = str_arg2\n",
    "    else:\n",
    "        string_1 = str_arg2\n",
    "        string_2 = str_arg1\n",
    "        \n",
    "    return string_1, string_2"
   ]
  },
  {
   "cell_type": "code",
   "execution_count": 5,
   "id": "488358c4-c3c1-4e16-885a-dd88800e3527",
   "metadata": {},
   "outputs": [],
   "source": [
    "#This returns an updated list2 which contains no values from list1\n",
    "def remove_duplicate(list1,list2,substr):\n",
    "    for val in list1:\n",
    "        if val in list2:\n",
    "            list2.remove(val)\n",
    "\n",
    "    return substr + list2"
   ]
  },
  {
   "cell_type": "code",
   "execution_count": 6,
   "id": "e799b74e-1413-4359-8f98-6f49047c85f6",
   "metadata": {},
   "outputs": [],
   "source": [
    "#This updates substr if a value in nextIndex is between the min(substr) and max(substr)\n",
    "def inside_range(substr,nextIndex_list):\n",
    "    was_in = False\n",
    "    for i in range(len(nextIndex_list)):\n",
    "        if nextIndex_list[i] in range(min(substr), max(nextIndex_list)):\n",
    "            substr.append(nextIndex_list[i])\n",
    "            substr = list(np.sort(substr))\n",
    "            was_in = True\n",
    "    return substr, was_in"
   ]
  },
  {
   "cell_type": "code",
   "execution_count": 8,
   "id": "9715a8bc-90bc-4c52-9d69-feef4565e6f7",
   "metadata": {},
   "outputs": [],
   "source": [
    "# Get the Index of the next POssible position that is of the shortest distance\n",
    "def getIdx_minDistance(sub,nextIndex_list):\n",
    "    \n",
    "    dist_minSub = []\n",
    "    dist_maxSub = []\n",
    "    sub_copy = sub.copy()\n",
    "    \n",
    "    if len(nextIndex_list) == 1:\n",
    "        sub_copy.append(nextIndex_list[0])\n",
    "    else:\n",
    "        for i in range(len(nextIndex_list)):\n",
    "            dist_minSub.append(abs(min(sub) - nextIndex_list[i]))\n",
    "            dist_maxSub.append(abs(max(sub) - nextIndex_list[i]))\n",
    "\n",
    "        if min(dist_minSub) < min(dist_maxSub):\n",
    "            sub_copy.append(nextIndex_list[dist_minSub.index(min(dist_minSub))])\n",
    "        elif min(dist_maxSub) > min(dist_minSub):\n",
    "            sub_copy.append(nextIndex_list[dist_maxSub.index(min(dist_maxSub))])\n",
    "\n",
    "    return sub_copy"
   ]
  },
  {
   "cell_type": "code",
   "execution_count": 9,
   "id": "8316d667-2fbf-4ea8-964c-b13837c805dd",
   "metadata": {},
   "outputs": [],
   "source": [
    "# This returns the possible substring\n",
    "def get_possible_sub(str_arg1,str_arg2,i):\n",
    "    \n",
    "    # Set string_1 as the smaller limiting string\n",
    "    string_1, string_2 = set_strings(str_arg1, str_arg2)\n",
    "    \n",
    "    # Getting the starting positions for the first letter in string_1\n",
    "    # i is the index of possible starting paths\n",
    "    substr = get_starter(string_1,string_2,i)\n",
    "\n",
    "    # Iterate through all letters in string_1\n",
    "    for j in range(len(string_1)-1):\n",
    "    #Find min distance for next possible positions of the next letter \n",
    "        nextIndex_list = []\n",
    "        for letter in re.finditer(string_1[j+1], string_2):\n",
    "            position_idx = letter.start()\n",
    "            nextIndex_list.append(position_idx)\n",
    "\n",
    "        #Is a value in nextIndex in substr? remove if true, update nextIndex\n",
    "        update_substr = remove_duplicate(substr,nextIndex_list,substr)\n",
    "        #Is a value in nextIndex between min(substr) and max(substr)?, if true append that index to substr\n",
    "        hold, was_in = inside_range(substr,nextIndex_list)\n",
    "        if was_in == True:\n",
    "            update_substr = hold\n",
    "        #Else, find the min distance for each possible index, append the index with min distance to substr\n",
    "        #substr should be updated each time\n",
    "        else: \n",
    "            update_substr = getIdx_minDistance(substr,nextIndex_list)\n",
    "\n",
    "        update_substr = list(np.sort(update_substr))\n",
    "\n",
    "    return substr, nextIndex_list, update_substr"
   ]
  },
  {
   "cell_type": "code",
   "execution_count": 13,
   "id": "09c2fa5f-92f9-45ce-bbdd-d247abfb692a",
   "metadata": {},
   "outputs": [],
   "source": [
    "str_arg1 = 'xajklxiaxklbi'\n",
    "str_arg2 = 'xxiai'\n",
    "\n",
    "# i can go from 0,1,2 representing the indices of the possible starting positions\n",
    "substr, nextIndex_list, update_substr = get_possible_sub(str_arg1,str_arg2,0)"
   ]
  },
  {
   "cell_type": "code",
   "execution_count": 14,
   "id": "a5c6fd69-0c16-4958-b670-640803865bd0",
   "metadata": {},
   "outputs": [
    {
     "data": {
      "text/plain": [
       "([0, 5, 6, 1], [12], [0, 1, 5, 6, 12])"
      ]
     },
     "execution_count": 14,
     "metadata": {},
     "output_type": "execute_result"
    }
   ],
   "source": [
    "substr, nextIndex_list, update_substr"
   ]
  },
  {
   "cell_type": "code",
   "execution_count": null,
   "id": "7d25159d-0555-4ff1-9125-d63b6f3361a2",
   "metadata": {},
   "outputs": [],
   "source": []
  }
 ],
 "metadata": {
  "kernelspec": {
   "display_name": "Python 3",
   "language": "python",
   "name": "python3"
  },
  "language_info": {
   "codemirror_mode": {
    "name": "ipython",
    "version": 3
   },
   "file_extension": ".py",
   "mimetype": "text/x-python",
   "name": "python",
   "nbconvert_exporter": "python",
   "pygments_lexer": "ipython3",
   "version": "3.7.6"
  }
 },
 "nbformat": 4,
 "nbformat_minor": 5
}
