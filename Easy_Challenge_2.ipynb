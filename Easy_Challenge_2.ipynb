{
 "cells": [
  {
   "cell_type": "markdown",
   "id": "90f26d00-21b9-42b4-ad1f-1df56afb5040",
   "metadata": {},
   "source": [
    "## Challenge 2 \n",
    "\n",
    "First Factorial\n",
    "Have the function FirstFactorial(num) take the num parameter being passed and return the factorial of it. For example: if num = 4, then your program should return (4 * 3 * 2 * 1) = 24. \n",
    "\n",
    "For the test cases, the range will be between 1 and 18 and the input will always be an integer.\n",
    "\n",
    "Examples\n",
    "Input: 4\n",
    "Output: 24\n",
    "Input: 8\n",
    "Output: 40320\n",
    "Tags\n"
   ]
  },
  {
   "cell_type": "code",
   "execution_count": 33,
   "id": "441ddb05-1fb4-4235-a9d2-d7244fee838b",
   "metadata": {},
   "outputs": [],
   "source": [
    "def FirstFactorial(num):\n",
    "    My_list = [*range(1, num + 1, 1)]\n",
    "    result = 1\n",
    "    for x in My_list:\n",
    "        result = result * x\n",
    "    return result"
   ]
  },
  {
   "cell_type": "code",
   "execution_count": 34,
   "id": "3ecead33-3ac7-4d25-a675-084b182295aa",
   "metadata": {},
   "outputs": [
    {
     "data": {
      "text/plain": [
       "24"
      ]
     },
     "execution_count": 34,
     "metadata": {},
     "output_type": "execute_result"
    }
   ],
   "source": [
    "FirstFactorial(4)"
   ]
  },
  {
   "cell_type": "code",
   "execution_count": 35,
   "id": "1e50f1f0-8b28-40b5-81a3-7271624a7dfa",
   "metadata": {},
   "outputs": [
    {
     "data": {
      "text/plain": [
       "40320"
      ]
     },
     "execution_count": 35,
     "metadata": {},
     "output_type": "execute_result"
    }
   ],
   "source": [
    "FirstFactorial(8)"
   ]
  },
  {
   "cell_type": "code",
   "execution_count": null,
   "id": "e49992a2-8a55-48a9-a03a-2585a5376b78",
   "metadata": {},
   "outputs": [],
   "source": []
  }
 ],
 "metadata": {
  "kernelspec": {
   "display_name": "Python 3",
   "language": "python",
   "name": "python3"
  },
  "language_info": {
   "codemirror_mode": {
    "name": "ipython",
    "version": 3
   },
   "file_extension": ".py",
   "mimetype": "text/x-python",
   "name": "python",
   "nbconvert_exporter": "python",
   "pygments_lexer": "ipython3",
   "version": "3.7.6"
  }
 },
 "nbformat": 4,
 "nbformat_minor": 5
}
