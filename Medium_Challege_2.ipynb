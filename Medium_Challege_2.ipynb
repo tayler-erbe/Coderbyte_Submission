{
 "cells": [
  {
   "cell_type": "markdown",
   "id": "ff33b56a-f154-4281-8e43-99eb52b3b6aa",
   "metadata": {},
   "source": [
    "## Challenge 2 \n",
    "\n",
    "#### Title: Tree Constructor\n",
    "\n",
    "Difficulty: Medium\n",
    "\n",
    "Solutions: 29592\n",
    "\n",
    "Maximum Score: 10\n",
    "\n",
    "Description: For this challenge you will determine if an array of integer pairs can form a binary tree properly."
   ]
  },
  {
   "cell_type": "markdown",
   "id": "26101a66-d4a5-447e-8b42-cdc9c7ffa1fd",
   "metadata": {},
   "source": [
    "Tree Constructor\n",
    "\n",
    "Have the function TreeConstructor(strArr) take the array of strings stored in strArr, which will contain pairs of integers in the following format: (i1,i2), where i1 represents a child node in a tree and the second integer i2 signifies that it is the parent of i1. For example: if strArr is [\"(1,2)\", \"(2,4)\", \"(7,2)\"], then this forms the following tree:\n",
    "\n",
    "        4\n",
    "       /  \n",
    "      2\n",
    "     / \\\n",
    "    1   7 \n",
    "\n",
    "Which you can see forms a proper binary tree. Your program should, in this case, return the string true because a valid binary tree can be formed. If a proper binary tree cannot be formed with the integer pairs, then return the string false. All of the integers within the tree will be unique, which means there can only be one node in the tree with the given integer value.\n",
    "\n",
    "Examples\n",
    "\n",
    "Input: [\"(1,2)\", \"(2,4)\", \"(5,7)\", \"(7,2)\", \"(9,5)\"]\n",
    "\n",
    "                        4\n",
    "                       /\n",
    "                      2\n",
    "                     / \\\n",
    "                    1   7\n",
    "                         \\\n",
    "                          5\n",
    "                           \\\n",
    "                            9\n",
    "Output: true\n",
    "\n",
    "\n",
    "\n",
    "Input: [\"(1,2)\", \"(3,2)\", \"(2,12)\", \"(5,2)\"]\n",
    "\n",
    "                   12\n",
    "                   |\n",
    "                  2\n",
    "                / | \\\n",
    "               5  1  3\n",
    "\n",
    "Output: false"
   ]
  },
  {
   "cell_type": "code",
   "execution_count": 1,
   "id": "c1748fa8-2e3e-42ec-a981-6206b92dc5d5",
   "metadata": {},
   "outputs": [],
   "source": [
    "# imports \n",
    "\n",
    "import re\n",
    "import numpy as np\n",
    "import pandas as pd"
   ]
  },
  {
   "cell_type": "code",
   "execution_count": 2,
   "id": "e4b6c43d-9e38-4b9f-8202-7ff628fbc892",
   "metadata": {},
   "outputs": [],
   "source": [
    "# Example we will work with, this is a binary tree since only one node has at most two children/branches\n",
    "\n",
    "ex1 = [\"(1,2)\", \"(2,4)\", \"(5,7)\", \"(7,2)\", \"(9,5)\"]\n",
    "is_binary1 = True "
   ]
  },
  {
   "cell_type": "markdown",
   "id": "9d151f11-cef3-43b4-a476-705a3b3dccc1",
   "metadata": {},
   "source": [
    "                  4\n",
    "                 /\n",
    "                2                Here we see that there is one parent with two children\n",
    "               / \\\n",
    "              1   7                !!! THIS IS A BINARY TREE !!!\n",
    "                   \\\n",
    "                    5\n",
    "                     \\\n",
    "                      9"
   ]
  },
  {
   "cell_type": "code",
   "execution_count": 3,
   "id": "f91a621e-2577-4edc-8a1f-d7cd5584b141",
   "metadata": {},
   "outputs": [],
   "source": [
    "# Example we will work with, this is a binary tree since only one node has at most two children/branches\n",
    "ex2 = [\"(1,2)\", \"(2,4)\", \"(5,7)\", \"(7,2)\", \"(3,7)\",\"(9,5)\"]\n",
    "is_binary2 = False "
   ]
  },
  {
   "cell_type": "markdown",
   "id": "405d637e-7a0b-4ee0-9c81-091999322683",
   "metadata": {},
   "source": [
    "                  4\n",
    "                 /\n",
    "                2                   Here we see that there are two parents with two children\n",
    "               / \\           \n",
    "              1   7                   !!! NOT A BINARY TREE !!!\n",
    "                 / \\\n",
    "                3   5\n",
    "                     \\\n",
    "                      9"
   ]
  },
  {
   "cell_type": "code",
   "execution_count": 4,
   "id": "6a02f5b8-03af-42c5-a445-6faaec0df11c",
   "metadata": {},
   "outputs": [],
   "source": [
    "# Example we will work with, this is a binary tree since only one node has at most two children/branches\n",
    "ex3 = [\"(2,4)\", \"(5,7)\", \"(7,2)\", \"(9,5)\"]\n",
    "is_binary3 = False "
   ]
  },
  {
   "cell_type": "markdown",
   "id": "e63e5e82-b396-4f55-ba4b-f08636296e41",
   "metadata": {},
   "source": [
    "                  4\n",
    "                 /\n",
    "                2                   Here we see that all parents only have one child\n",
    "                 \\           \n",
    "                  7                   !!! NOT A BINARY TREE !!!\n",
    "                   \\\n",
    "                    5\n",
    "                     \\\n",
    "                      9"
   ]
  },
  {
   "cell_type": "markdown",
   "id": "e5ff028e-c284-490a-a438-48949c858492",
   "metadata": {},
   "source": [
    "## My Rational\n",
    "My logic behind solving this problem this problem is that in order to discern whether or not the tree is binary comes down to the count of how many parents have more than two children. \n",
    "\n",
    "#### Cases where it is NOT a Binary Tree \n",
    "If there is more than one parent with 2 or more children then it can not be a binary tree. (refer to ex2)\n",
    "\n",
    "If there is no parent with exactly 2 children, \n",
    "    ie all parents have less then two children [this would be just a line] , (refer to ex3)\n",
    "\n",
    "#### Case where it IS A Binary Tree \n",
    "If there is only one parent with exactly two children then it is a binary tree.  (refer to ex1)\n",
    "\n",
    "In order to solve this we will have to keep a count of how many children each parent has. After tallying up all the children that belong to each parent, if there is only one parent with exactly two children, no parents with more than 3 then it is a binary tree"
   ]
  },
  {
   "cell_type": "markdown",
   "id": "a39ea1a0-168e-4571-ab09-0e4921abab0b",
   "metadata": {},
   "source": [
    "#### Step 1: Clean the data"
   ]
  },
  {
   "cell_type": "code",
   "execution_count": 5,
   "id": "8db2f3b7-a21f-42da-901b-13ca48b2eeb1",
   "metadata": {},
   "outputs": [],
   "source": [
    "# Return a list with parentheses removed,\n",
    "# seperated by commas [nested list of parent child],\n",
    "# Connverted all strings numbers to ints. \n",
    "\n",
    "def convert_IntList(strArr):\n",
    "    new_list = []\n",
    "    for v in strArr:\n",
    "        v = v.replace(\"(\",\"\").replace(\")\",\"\")\n",
    "        split_string = v.split(\",\")\n",
    "        #integer_list = map(int, split_string)\n",
    "        new_list.append(split_string)\n",
    "\n",
    "    for i in range(len(new_list)):\n",
    "        new_list[i][:] = [int(x) for x in new_list[i]]\n",
    "    \n",
    "    return new_list"
   ]
  },
  {
   "cell_type": "code",
   "execution_count": 6,
   "id": "e68d5466-753c-4041-87e8-35d40d112067",
   "metadata": {},
   "outputs": [],
   "source": [
    "# # Test convert_IntList Function \n",
    "# parent_child_list = convert_IntList(ex3)\n",
    "# parent_child_list"
   ]
  },
  {
   "cell_type": "markdown",
   "id": "5a72fb85-d5ec-447a-9fb5-5d5be427030a",
   "metadata": {},
   "source": [
    "The data is now in a condition which will allow us to manipulate it for extracting the information that we want. "
   ]
  },
  {
   "cell_type": "markdown",
   "id": "99d22ea6-acc7-4a73-b5a0-5a203bb1dc82",
   "metadata": {},
   "source": [
    "#### Step 2: Get a list of all the parents "
   ]
  },
  {
   "cell_type": "code",
   "execution_count": 7,
   "id": "b02bb59a-a678-436a-a19c-446ccae7d9ae",
   "metadata": {},
   "outputs": [],
   "source": [
    "def get_parents(parent_child_list):\n",
    "    \n",
    "    parent_list = []   \n",
    "    for i in range(len(parent_child_list)):\n",
    "        parent_list.append(parent_child_list[i][1])    \n",
    "    \n",
    "    return parent_list"
   ]
  },
  {
   "cell_type": "code",
   "execution_count": 8,
   "id": "9db898eb-4f1f-4a0c-8bc5-79bfdd1294d0",
   "metadata": {},
   "outputs": [],
   "source": [
    "# # Test get a list of all time a number was a parent  \n",
    "# parents_list = get_parents(parent_child_list)\n",
    "# parents_list"
   ]
  },
  {
   "cell_type": "markdown",
   "id": "6d160bb6-e6f9-4b0a-a89f-348d40aac21a",
   "metadata": {},
   "source": [
    "Here we can see that the number 2 was a parent twice, all other numbers were a parent only once "
   ]
  },
  {
   "cell_type": "markdown",
   "id": "ca4182ff-fb33-42a2-9036-1785fea0a11d",
   "metadata": {},
   "source": [
    "#### Step 3: Get a count of how many children belong to each parent"
   ]
  },
  {
   "cell_type": "code",
   "execution_count": 15,
   "id": "013af0fb-4517-4a41-ae36-d3214ee9d1a9",
   "metadata": {},
   "outputs": [],
   "source": [
    "# Gets a count of how many children per parent\n",
    "def countChildern(parents_list):\n",
    "    \n",
    "    unique_parents = list(np.unique(parents_list))\n",
    "    \n",
    "    number_children_per_parent = []\n",
    "    for i in range(len(unique_parents)):\n",
    "        number_children_per_parent.append(parents_list.count(unique_parents[i]))\n",
    "\n",
    "    return number_children_per_parent"
   ]
  },
  {
   "cell_type": "code",
   "execution_count": 16,
   "id": "a11d8ee4-8053-46d3-b1c3-cdb94814a206",
   "metadata": {},
   "outputs": [],
   "source": [
    "# number_children_per_parent = countChildern(parents_list)\n",
    "# number_children_per_parent"
   ]
  },
  {
   "cell_type": "markdown",
   "id": "70140eec-ef1a-4096-b6c0-d442d0208426",
   "metadata": {},
   "source": [
    "See here, that we see the count of children for each unique parent. Now we are ready to write the condition which will tell us wether or not the tree is binary. "
   ]
  },
  {
   "cell_type": "markdown",
   "id": "06bc52a2-cc65-4a45-887c-1591d248b664",
   "metadata": {},
   "source": [
    "#### Step 4: Decipher whether the tree is binary or not"
   ]
  },
  {
   "cell_type": "code",
   "execution_count": 17,
   "id": "ff9899f3-26b0-490c-a29e-b7b64eb904d5",
   "metadata": {},
   "outputs": [],
   "source": [
    "def is_binary(number_children_per_parent):\n",
    "    if max(number_children_per_parent) > 2:\n",
    "        is_binary = False\n",
    "    elif max(num_children) < 2:\n",
    "        is_binary = False\n",
    "    elif number_children_per_parent.count(2) == 1:\n",
    "        is_binary = True\n",
    "    else:\n",
    "        is_binary = False\n",
    "        \n",
    "    return is_binary"
   ]
  },
  {
   "cell_type": "code",
   "execution_count": 18,
   "id": "5a8e3fa0-402c-47b9-8eea-a0be3aebe505",
   "metadata": {},
   "outputs": [],
   "source": [
    "# binary = is_binary(number_children_per_parent)\n",
    "# binary"
   ]
  },
  {
   "cell_type": "markdown",
   "id": "1127020d-c5a7-445f-abac-b1e1ee774a24",
   "metadata": {},
   "source": [
    " We now have all the functions capable of telling us whether or not a tree is binary or not."
   ]
  },
  {
   "cell_type": "code",
   "execution_count": 19,
   "id": "99f301dc-42b0-4a60-b4d5-b96d3bfdde73",
   "metadata": {},
   "outputs": [],
   "source": [
    "def TreeConstructor(string_Arr):\n",
    "    p_c_list = convert_IntList(string_Arr)\n",
    "    p_list = get_parents(p_c_list)\n",
    "    num_c = countChildern(p_list)\n",
    "    answer = is_binary(num_c)\n",
    "    return answer\n"
   ]
  },
  {
   "cell_type": "code",
   "execution_count": 20,
   "id": "e2776ddd-fa18-4652-9ea4-98b6b558cebe",
   "metadata": {},
   "outputs": [
    {
     "ename": "NameError",
     "evalue": "name 'num_children' is not defined",
     "output_type": "error",
     "traceback": [
      "\u001b[1;31m---------------------------------------------------------------------------\u001b[0m",
      "\u001b[1;31mNameError\u001b[0m                                 Traceback (most recent call last)",
      "\u001b[1;32m<ipython-input-20-d2c5c16ce969>\u001b[0m in \u001b[0;36m<module>\u001b[1;34m\u001b[0m\n\u001b[1;32m----> 1\u001b[1;33m \u001b[0mTreeConstructor\u001b[0m\u001b[1;33m(\u001b[0m\u001b[0mex1\u001b[0m\u001b[1;33m)\u001b[0m\u001b[1;33m\u001b[0m\u001b[1;33m\u001b[0m\u001b[0m\n\u001b[0m",
      "\u001b[1;32m<ipython-input-19-6958bbc75bce>\u001b[0m in \u001b[0;36mTreeConstructor\u001b[1;34m(string_Arr)\u001b[0m\n\u001b[0;32m      3\u001b[0m     \u001b[0mp_list\u001b[0m \u001b[1;33m=\u001b[0m \u001b[0mget_parents\u001b[0m\u001b[1;33m(\u001b[0m\u001b[0mp_c_list\u001b[0m\u001b[1;33m)\u001b[0m\u001b[1;33m\u001b[0m\u001b[1;33m\u001b[0m\u001b[0m\n\u001b[0;32m      4\u001b[0m     \u001b[0mnum_c\u001b[0m \u001b[1;33m=\u001b[0m \u001b[0mcountChildern\u001b[0m\u001b[1;33m(\u001b[0m\u001b[0mp_list\u001b[0m\u001b[1;33m)\u001b[0m\u001b[1;33m\u001b[0m\u001b[1;33m\u001b[0m\u001b[0m\n\u001b[1;32m----> 5\u001b[1;33m     \u001b[0manswer\u001b[0m \u001b[1;33m=\u001b[0m \u001b[0mis_binary\u001b[0m\u001b[1;33m(\u001b[0m\u001b[0mnum_c\u001b[0m\u001b[1;33m)\u001b[0m\u001b[1;33m\u001b[0m\u001b[1;33m\u001b[0m\u001b[0m\n\u001b[0m\u001b[0;32m      6\u001b[0m     \u001b[1;32mreturn\u001b[0m \u001b[0manswer\u001b[0m\u001b[1;33m\u001b[0m\u001b[1;33m\u001b[0m\u001b[0m\n",
      "\u001b[1;32m<ipython-input-17-69ec755f805f>\u001b[0m in \u001b[0;36mis_binary\u001b[1;34m(number_children_per_parent)\u001b[0m\n\u001b[0;32m      2\u001b[0m     \u001b[1;32mif\u001b[0m \u001b[0mmax\u001b[0m\u001b[1;33m(\u001b[0m\u001b[0mnumber_children_per_parent\u001b[0m\u001b[1;33m)\u001b[0m \u001b[1;33m>\u001b[0m \u001b[1;36m2\u001b[0m\u001b[1;33m:\u001b[0m\u001b[1;33m\u001b[0m\u001b[1;33m\u001b[0m\u001b[0m\n\u001b[0;32m      3\u001b[0m         \u001b[0mis_binary\u001b[0m \u001b[1;33m=\u001b[0m \u001b[1;32mFalse\u001b[0m\u001b[1;33m\u001b[0m\u001b[1;33m\u001b[0m\u001b[0m\n\u001b[1;32m----> 4\u001b[1;33m     \u001b[1;32melif\u001b[0m \u001b[0mmax\u001b[0m\u001b[1;33m(\u001b[0m\u001b[0mnum_children\u001b[0m\u001b[1;33m)\u001b[0m \u001b[1;33m<\u001b[0m \u001b[1;36m2\u001b[0m\u001b[1;33m:\u001b[0m\u001b[1;33m\u001b[0m\u001b[1;33m\u001b[0m\u001b[0m\n\u001b[0m\u001b[0;32m      5\u001b[0m         \u001b[0mis_binary\u001b[0m \u001b[1;33m=\u001b[0m \u001b[1;32mFalse\u001b[0m\u001b[1;33m\u001b[0m\u001b[1;33m\u001b[0m\u001b[0m\n\u001b[0;32m      6\u001b[0m     \u001b[1;32melif\u001b[0m \u001b[0mnumber_children_per_parent\u001b[0m\u001b[1;33m.\u001b[0m\u001b[0mcount\u001b[0m\u001b[1;33m(\u001b[0m\u001b[1;36m2\u001b[0m\u001b[1;33m)\u001b[0m \u001b[1;33m==\u001b[0m \u001b[1;36m1\u001b[0m\u001b[1;33m:\u001b[0m\u001b[1;33m\u001b[0m\u001b[1;33m\u001b[0m\u001b[0m\n",
      "\u001b[1;31mNameError\u001b[0m: name 'num_children' is not defined"
     ]
    }
   ],
   "source": [
    "TreeConstructor(ex1)"
   ]
  },
  {
   "cell_type": "code",
   "execution_count": 93,
   "id": "d947a094-82af-4874-a71b-9c19ccc9b111",
   "metadata": {},
   "outputs": [
    {
     "data": {
      "text/plain": [
       "[2, 1, 1, 1]"
      ]
     },
     "execution_count": 93,
     "metadata": {},
     "output_type": "execute_result"
    }
   ],
   "source": [
    "TreeConstructor(ex2)"
   ]
  },
  {
   "cell_type": "code",
   "execution_count": 95,
   "id": "6251dade-30f3-4868-a640-6358ddbcf5bb",
   "metadata": {},
   "outputs": [
    {
     "data": {
      "text/plain": [
       "[2, 1, 1, 1]"
      ]
     },
     "execution_count": 95,
     "metadata": {},
     "output_type": "execute_result"
    }
   ],
   "source": [
    "TreeConstructor(ex3)"
   ]
  },
  {
   "cell_type": "code",
   "execution_count": null,
   "id": "b94a4e7c-4265-4c48-9766-3c83fa5c4212",
   "metadata": {},
   "outputs": [],
   "source": []
  },
  {
   "cell_type": "code",
   "execution_count": null,
   "id": "64498cc3-f597-47cb-8864-bb7b8ed6e0eb",
   "metadata": {},
   "outputs": [],
   "source": []
  }
 ],
 "metadata": {
  "kernelspec": {
   "display_name": "Python 3",
   "language": "python",
   "name": "python3"
  },
  "language_info": {
   "codemirror_mode": {
    "name": "ipython",
    "version": 3
   },
   "file_extension": ".py",
   "mimetype": "text/x-python",
   "name": "python",
   "nbconvert_exporter": "python",
   "pygments_lexer": "ipython3",
   "version": "3.7.6"
  }
 },
 "nbformat": 4,
 "nbformat_minor": 5
}
