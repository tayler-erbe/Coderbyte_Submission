{
 "cells": [
  {
   "cell_type": "markdown",
   "id": "6905eec1-2a7e-477e-8ccf-3d1f201f0cd1",
   "metadata": {},
   "source": [
    "### CoderByte Challenge for AI Camp Position 3/7/2022\n",
    "This was my submission for the coding assesement. "
   ]
  },
  {
   "cell_type": "code",
   "execution_count": 4,
   "id": "dd65fb9f-5994-4a9b-895c-55e7837df27e",
   "metadata": {},
   "outputs": [],
   "source": [
    "import numpy as np\n",
    "import pandas as pd\n",
    "import matplotlib.pyplot as plt\n",
    "import seaborn as sns\n"
   ]
  },
  {
   "cell_type": "markdown",
   "id": "0d3d5020-f9b4-4b51-963c-84cb266d32ee",
   "metadata": {},
   "source": [
    "## Challenge 1 \n",
    "### Array Challenge\n",
    "\n",
    "Difficulty: Easy\n",
    "Maximum Score: 10\n",
    "\n",
    "Have the function ArrayChallenge(arr) take the array of numbers stored in arr and return the second lowest and second greatest numbers, respectively, separated by a space. For example: if arr contains [7, 7, 12, 98, 106] the output should be 12 98. The array will not be empty and will contain at least 2 numbers. It can get tricky if there's just two numbers!\n",
    "Once your function is working, take the final output string and concatenate it with your ChallengeToken, and then replace every third character with an X.\n",
    "\n",
    "Your ChallengeToken: ljim1pteyad0"
   ]
  },
  {
   "cell_type": "code",
   "execution_count": 76,
   "id": "fe459703-3ec6-4263-9ef9-b87421ee192a",
   "metadata": {},
   "outputs": [],
   "source": [
    "# I coded this in jupyter lab, and it worked great.\n",
    "# Not sure what the issue is with this editor. \n",
    "\n",
    "import numpy as np\n",
    "\n",
    "def ArrayChallenge(arr):\n",
    "  #Sorts in ascending order and removes duplicates \n",
    "  sort_arr = np.sort(np.unique(arr))\n",
    "  #Uses indices to grab second lowest and second highest \n",
    "  second_lowest = sort_arr[1]\n",
    "  second_highest = sort_arr[-2]\n",
    "  #Turns the output variables into string seperated by a space\n",
    "  output_string = str(second_lowest) + \" \" + str(second_highest)\n",
    "  #This is my challenge token\n",
    "  challenge_token = \"ljim1pteyad0\"\n",
    "  #Concates the challenge token and the ouput strings\n",
    "  strings = output_string + challenge_token\n",
    "  # Replaces every third character with an X\n",
    "  final_output = 'X'.join(strings[i:i+2] for i in range(0, len(strings), 3))\n",
    "  return final_output\n"
   ]
  },
  {
   "cell_type": "code",
   "execution_count": 77,
   "id": "1da03ab6-0b8a-4e46-b585-fe65103356bd",
   "metadata": {},
   "outputs": [
    {
     "data": {
      "text/plain": [
       "'3 X00XjiX1pXeyXd0'"
      ]
     },
     "execution_count": 77,
     "metadata": {},
     "output_type": "execute_result"
    }
   ],
   "source": [
    "# Testing \n",
    "arr = [2,2,4,12,7,20,11,100,200,2,3,4,100]\n",
    "ArrayChallenge(arr)"
   ]
  },
  {
   "cell_type": "code",
   "execution_count": 79,
   "id": "031d8c01-03be-4feb-a506-f14896a4523a",
   "metadata": {},
   "outputs": [
    {
     "data": {
      "text/plain": [
       "'4 X00XjiX1pXeyXd0'"
      ]
     },
     "execution_count": 79,
     "metadata": {},
     "output_type": "execute_result"
    }
   ],
   "source": [
    "#TEST\n",
    "ArrayChallenge([11,2,23,4,52,20,100,100,200])"
   ]
  },
  {
   "cell_type": "code",
   "execution_count": 80,
   "id": "cf400788-bfd1-460b-a9a1-99dbe957862f",
   "metadata": {},
   "outputs": [
    {
     "data": {
      "text/plain": [
       "'42X42XjiX1pXeyXd0'"
      ]
     },
     "execution_count": 80,
     "metadata": {},
     "output_type": "execute_result"
    }
   ],
   "source": [
    "#TEST\n",
    "ArrayChallenge([1, 42, 42, 180])"
   ]
  }
 ],
 "metadata": {
  "kernelspec": {
   "display_name": "Python 3",
   "language": "python",
   "name": "python3"
  },
  "language_info": {
   "codemirror_mode": {
    "name": "ipython",
    "version": 3
   },
   "file_extension": ".py",
   "mimetype": "text/x-python",
   "name": "python",
   "nbconvert_exporter": "python",
   "pygments_lexer": "ipython3",
   "version": "3.7.6"
  }
 },
 "nbformat": 4,
 "nbformat_minor": 5
}
